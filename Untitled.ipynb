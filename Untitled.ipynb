{
 "cells": [
  {
   "cell_type": "code",
   "execution_count": 3,
   "id": "f2f27140",
   "metadata": {},
   "outputs": [
    {
     "data": {
      "text/plain": [
       "Fraction(3, 2)"
      ]
     },
     "execution_count": 3,
     "metadata": {},
     "output_type": "execute_result"
    }
   ],
   "source": [
    "from fractions import Fraction\n"
   ]
  },
  {
   "cell_type": "code",
   "execution_count": 4,
   "id": "a71e5a08",
   "metadata": {},
   "outputs": [
    {
     "data": {
      "text/plain": [
       "Fraction(1, 1)"
      ]
     },
     "execution_count": 4,
     "metadata": {},
     "output_type": "execute_result"
    }
   ],
   "source": [
    "Fraction(3,2)*Fraction(2,3)"
   ]
  },
  {
   "cell_type": "code",
   "execution_count": 18,
   "id": "5f331f32",
   "metadata": {},
   "outputs": [],
   "source": [
    "def f(z):\n",
    "    if z > 0:\n",
    "        return Fraction(2*z,z+1)\n",
    "    else:\n",
    "        return Fraction(2*(abs(z)+1),abs(z))\n",
    "    "
   ]
  },
  {
   "cell_type": "code",
   "execution_count": 45,
   "id": "ef252d8b",
   "metadata": {},
   "outputs": [
    {
     "name": "stdout",
     "output_type": "stream",
     "text": [
      "f(-15) = 2.1333333333333333\n",
      "f(-14) = 2.142857142857143\n",
      "f(-13) = 2.1538461538461537\n",
      "f(-12) = 2.1666666666666665\n",
      "f(-11) = 2.1818181818181817\n",
      "f(-10) = 2.2\n",
      "f(-9) = 2.2222222222222223\n",
      "f(-8) = 2.25\n",
      "f(-7) = 2.2857142857142856\n",
      "f(-6) = 2.3333333333333335\n",
      "f(-5) = 2.4\n",
      "f(-4) = 2.5\n",
      "f(-3) = 2.6666666666666665\n",
      "f(-2) = 3.0\n",
      "f(-1) = 4.0\n",
      "f(1) = 1.0\n",
      "f(2) = 1.3333333333333333\n",
      "f(3) = 1.5\n",
      "f(4) = 1.6\n",
      "f(5) = 1.6666666666666667\n",
      "f(6) = 1.7142857142857142\n",
      "f(7) = 1.75\n",
      "f(8) = 1.7777777777777777\n",
      "f(9) = 1.8\n",
      "f(10) = 1.8181818181818181\n",
      "f(11) = 1.8333333333333333\n",
      "f(12) = 1.8461538461538463\n",
      "f(13) = 1.8571428571428572\n",
      "f(14) = 1.8666666666666667\n"
     ]
    }
   ],
   "source": [
    "for i in range(-15,15):\n",
    "    if i != 0:\n",
    "        print(f\"f({i}) = {float(f(i))}\")\n",
    "\n"
   ]
  },
  {
   "cell_type": "code",
   "execution_count": 22,
   "id": "223e6f81",
   "metadata": {},
   "outputs": [],
   "source": [
    "def g(n):\n",
    "    return Fraction(1, f(-n))\n"
   ]
  },
  {
   "cell_type": "code",
   "execution_count": 84,
   "id": "cd4e4419",
   "metadata": {},
   "outputs": [
    {
     "name": "stdout",
     "output_type": "stream",
     "text": [
      "g(-5) =  0.6000\n",
      "g(-4) =  0.6250\n",
      "g(-3) =  0.6667\n",
      "g(-2) =  0.7500\n",
      "g(-1) =  1.0000\n",
      "g( 1) =  0.2500\n",
      "g( 2) =  0.3333\n",
      "g( 3) =  0.3750\n",
      "g( 4) =  0.4000\n"
     ]
    }
   ],
   "source": [
    "for i in range(-5,5):\n",
    "    if i != 0:\n",
    "        print(f\"g({i:2}) = \", format(float(g(i)), '0.4f'))"
   ]
  },
  {
   "cell_type": "code",
   "execution_count": 33,
   "id": "186dc19c",
   "metadata": {},
   "outputs": [
    {
     "name": "stdout",
     "output_type": "stream",
     "text": [
      "g(-15) < g(-14)True\n",
      "g(-14) < g(-13)True\n",
      "g(-13) < g(-12)True\n",
      "g(-12) < g(-11)True\n",
      "g(-11) < g(-10)True\n",
      "g(-10) < g(-9)True\n",
      "g(-9) < g(-8)True\n",
      "g(-8) < g(-7)True\n",
      "g(-7) < g(-6)True\n",
      "g(-6) < g(-5)True\n",
      "g(-5) < g(-4)True\n",
      "g(-4) < g(-3)True\n",
      "g(-3) < g(-2)True\n",
      "g(2) < g(3)True\n",
      "g(3) < g(4)True\n",
      "g(4) < g(5)True\n",
      "g(5) < g(6)True\n",
      "g(6) < g(7)True\n",
      "g(7) < g(8)True\n",
      "g(8) < g(9)True\n",
      "g(9) < g(10)True\n",
      "g(10) < g(11)True\n",
      "g(11) < g(12)True\n",
      "g(12) < g(13)True\n",
      "g(13) < g(14)True\n",
      "g(14) < g(15)True\n"
     ]
    }
   ],
   "source": [
    "for i in range(-15,-2):\n",
    "    if i != 0 and i != 1:\n",
    "        print(f\"g({i}) < g({i+1})\", end = '')\n",
    "        print(g(i) < g(i+1))\n",
    "for i in range(2,15):\n",
    "    if i != 0 and i != 1:\n",
    "        print(f\"g({i}) < g({i+1})\", end = '')\n",
    "        print(g(i) < g(i+1))"
   ]
  },
  {
   "cell_type": "code",
   "execution_count": 34,
   "id": "0b490a09",
   "metadata": {},
   "outputs": [
    {
     "data": {
      "text/plain": [
       "False"
      ]
     },
     "execution_count": 34,
     "metadata": {},
     "output_type": "execute_result"
    }
   ],
   "source": [
    "g(-2) < g(2)"
   ]
  },
  {
   "cell_type": "code",
   "execution_count": 35,
   "id": "c7c654e4",
   "metadata": {},
   "outputs": [
    {
     "data": {
      "text/plain": [
       "False"
      ]
     },
     "execution_count": 35,
     "metadata": {},
     "output_type": "execute_result"
    }
   ],
   "source": [
    "g(-14) < g(5)"
   ]
  },
  {
   "cell_type": "code",
   "execution_count": 36,
   "id": "bdcd2f1e",
   "metadata": {},
   "outputs": [
    {
     "data": {
      "text/plain": [
       "Fraction(3, 4)"
      ]
     },
     "execution_count": 36,
     "metadata": {},
     "output_type": "execute_result"
    }
   ],
   "source": [
    "g(-2)"
   ]
  },
  {
   "cell_type": "code",
   "execution_count": 43,
   "id": "b10c5641",
   "metadata": {},
   "outputs": [
    {
     "name": "stdout",
     "output_type": "stream",
     "text": [
      "0.75\n"
     ]
    }
   ],
   "source": [
    "print(f\"{float(g(-2))}\")"
   ]
  },
  {
   "cell_type": "code",
   "execution_count": 46,
   "id": "2547776a",
   "metadata": {},
   "outputs": [
    {
     "name": "stdout",
     "output_type": "stream",
     "text": [
      "g(-15) = 0.5333333333333333\n",
      "g(-14) = 0.5357142857142857\n",
      "g(-13) = 0.5384615384615384\n",
      "g(-12) = 0.5416666666666666\n",
      "g(-11) = 0.5454545454545454\n",
      "g(-10) = 0.55\n",
      "g(-9) = 0.5555555555555556\n",
      "g(-8) = 0.5625\n",
      "g(-7) = 0.5714285714285714\n",
      "g(-6) = 0.5833333333333334\n",
      "g(-5) = 0.6\n",
      "g(-4) = 0.625\n",
      "g(-3) = 0.6666666666666666\n",
      "g(-2) = 0.75\n",
      "g(-1) = 1.0\n",
      "g(1) = 0.25\n",
      "g(2) = 0.3333333333333333\n",
      "g(3) = 0.375\n",
      "g(4) = 0.4\n",
      "g(5) = 0.4166666666666667\n",
      "g(6) = 0.42857142857142855\n",
      "g(7) = 0.4375\n",
      "g(8) = 0.4444444444444444\n",
      "g(9) = 0.45\n",
      "g(10) = 0.45454545454545453\n",
      "g(11) = 0.4583333333333333\n",
      "g(12) = 0.46153846153846156\n",
      "g(13) = 0.4642857142857143\n",
      "g(14) = 0.4666666666666667\n"
     ]
    }
   ],
   "source": [
    "for i in range(-15,15):\n",
    "    if i != 0:\n",
    "        print(f\"g({i}) = {float(g(i))}\")"
   ]
  },
  {
   "cell_type": "code",
   "execution_count": 47,
   "id": "abe47f93",
   "metadata": {},
   "outputs": [],
   "source": [
    "def h(n):\n",
    "    return f(n)*g(n)"
   ]
  },
  {
   "cell_type": "code",
   "execution_count": 48,
   "id": "7178f3a6",
   "metadata": {},
   "outputs": [
    {
     "name": "stdout",
     "output_type": "stream",
     "text": [
      "h(-15) = 1.1377777777777778\n",
      "h(-14) = 1.1479591836734695\n",
      "h(-13) = 1.1597633136094674\n",
      "h(-12) = 1.1736111111111112\n",
      "h(-11) = 1.1900826446280992\n",
      "h(-10) = 1.21\n",
      "h(-9) = 1.2345679012345678\n",
      "h(-8) = 1.265625\n",
      "h(-7) = 1.3061224489795917\n",
      "h(-6) = 1.3611111111111112\n",
      "h(-5) = 1.44\n",
      "h(-4) = 1.5625\n",
      "h(-3) = 1.7777777777777777\n",
      "h(-2) = 2.25\n",
      "h(-1) = 4.0\n",
      "h(1) = 0.25\n",
      "h(2) = 0.4444444444444444\n",
      "h(3) = 0.5625\n",
      "h(4) = 0.64\n",
      "h(5) = 0.6944444444444444\n",
      "h(6) = 0.7346938775510204\n",
      "h(7) = 0.765625\n",
      "h(8) = 0.7901234567901234\n",
      "h(9) = 0.81\n",
      "h(10) = 0.8264462809917356\n",
      "h(11) = 0.8402777777777778\n",
      "h(12) = 0.8520710059171598\n",
      "h(13) = 0.8622448979591837\n",
      "h(14) = 0.8711111111111111\n"
     ]
    }
   ],
   "source": [
    "for i in range(-15,15):\n",
    "    if i != 0:\n",
    "        print(f\"h({i}) = {float(h(i))}\")"
   ]
  },
  {
   "cell_type": "code",
   "execution_count": 63,
   "id": "490e254f",
   "metadata": {},
   "outputs": [
    {
     "data": {
      "text/plain": [
       "Fraction(1000000, 1002001)"
      ]
     },
     "execution_count": 63,
     "metadata": {},
     "output_type": "execute_result"
    }
   ],
   "source": [
    "h(1000)"
   ]
  },
  {
   "cell_type": "code",
   "execution_count": 76,
   "id": "ad491b3f",
   "metadata": {},
   "outputs": [
    {
     "data": {
      "text/plain": [
       "1.00000000002"
      ]
     },
     "execution_count": 76,
     "metadata": {},
     "output_type": "execute_result"
    }
   ],
   "source": [
    "float(h(-100000000000))"
   ]
  },
  {
   "cell_type": "code",
   "execution_count": 72,
   "id": "f6c566c5",
   "metadata": {},
   "outputs": [],
   "source": [
    "def limit(n):\n",
    "    return float(h(-n)-h(n))"
   ]
  },
  {
   "cell_type": "code",
   "execution_count": 75,
   "id": "0310e220",
   "metadata": {},
   "outputs": [
    {
     "data": {
      "text/plain": [
       "3.9999999800000004e-08"
      ]
     },
     "execution_count": 75,
     "metadata": {},
     "output_type": "execute_result"
    }
   ],
   "source": [
    "limit(100000000)"
   ]
  },
  {
   "cell_type": "code",
   "execution_count": null,
   "id": "2fb4f13e",
   "metadata": {},
   "outputs": [],
   "source": []
  }
 ],
 "metadata": {
  "kernelspec": {
   "display_name": "Python 3 (ipykernel)",
   "language": "python",
   "name": "python3"
  },
  "language_info": {
   "codemirror_mode": {
    "name": "ipython",
    "version": 3
   },
   "file_extension": ".py",
   "mimetype": "text/x-python",
   "name": "python",
   "nbconvert_exporter": "python",
   "pygments_lexer": "ipython3",
   "version": "3.11.5"
  }
 },
 "nbformat": 4,
 "nbformat_minor": 5
}
