{
 "cells": [
  {
   "cell_type": "code",
   "execution_count": 3,
   "id": "105d5072",
   "metadata": {},
   "outputs": [
    {
     "data": {
      "text/plain": [
       "Fraction(3, 2)"
      ]
     },
     "execution_count": 3,
     "metadata": {},
     "output_type": "execute_result"
    }
   ],
   "source": [
    "from fractions import Fraction\n"
   ]
  },
  {
   "cell_type": "code",
   "execution_count": 4,
   "id": "4a773e28",
   "metadata": {},
   "outputs": [
    {
     "data": {
      "text/plain": [
       "Fraction(1, 1)"
      ]
     },
     "execution_count": 4,
     "metadata": {},
     "output_type": "execute_result"
    }
   ],
   "source": [
    "Fraction(3,2)*Fraction(2,3)"
   ]
  },
  {
   "cell_type": "code",
   "execution_count": 18,
   "id": "c651329c",
   "metadata": {},
   "outputs": [],
   "source": [
    "def f(z):\n",
    "    if z > 0:\n",
    "        return Fraction(2*z,z+1)\n",
    "    else:\n",
    "        return Fraction(2*(abs(z)+1),abs(z))\n",
    "    "
   ]
  },
  {
   "cell_type": "code",
   "execution_count": 19,
   "id": "4677edc5",
   "metadata": {},
   "outputs": [
    {
     "name": "stdout",
     "output_type": "stream",
     "text": [
      "f(-5) = 12/5\n",
      "f(-4) = 5/2\n",
      "f(-3) = 8/3\n",
      "f(-2) = 3\n",
      "f(-1) = 4\n",
      "f(1) = 1\n",
      "f(2) = 4/3\n",
      "f(3) = 3/2\n",
      "f(4) = 8/5\n"
     ]
    }
   ],
   "source": [
    "for i in range(-5,5):\n",
    "    if i != 0:\n",
    "        print(f\"f({i}) = {f(i)}\")\n",
    "\n"
   ]
  },
  {
   "cell_type": "code",
   "execution_count": 22,
   "id": "793d49ac",
   "metadata": {},
   "outputs": [],
   "source": [
    "def g(n):\n",
    "    return Fraction(1, f(-n))\n"
   ]
  },
  {
   "cell_type": "code",
   "execution_count": 23,
   "id": "613c3470",
   "metadata": {},
   "outputs": [
    {
     "name": "stdout",
     "output_type": "stream",
     "text": [
      "g(-5) = 3/5\n",
      "g(-4) = 5/8\n",
      "g(-3) = 2/3\n",
      "g(-2) = 3/4\n",
      "g(-1) = 1\n",
      "g(1) = 1/4\n",
      "g(2) = 1/3\n",
      "g(3) = 3/8\n",
      "g(4) = 2/5\n"
     ]
    }
   ],
   "source": [
    "for i in range(-5,5):\n",
    "    if i != 0:\n",
    "        print(f\"g({i}) = {g(i)} = \", format(g(i), '_.2f'))"
   ]
  },
  {
   "cell_type": "code",
   "execution_count": null,
   "id": "4ee3d222",
   "metadata": {},
   "outputs": [],
   "source": [
    "for i in range(-5,5):\n",
    "    if i != 0:\n",
    "        print(g()\")"
   ]
  }
 ],
 "metadata": {
  "kernelspec": {
   "display_name": "Python 3 (ipykernel)",
   "language": "python",
   "name": "python3"
  },
  "language_info": {
   "codemirror_mode": {
    "name": "ipython",
    "version": 3
   },
   "file_extension": ".py",
   "mimetype": "text/x-python",
   "name": "python",
   "nbconvert_exporter": "python",
   "pygments_lexer": "ipython3",
   "version": "3.11.5"
  }
 },
 "nbformat": 4,
 "nbformat_minor": 5
}
